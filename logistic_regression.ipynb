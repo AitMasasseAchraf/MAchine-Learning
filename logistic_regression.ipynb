{
 "cells": [
  {
   "cell_type": "code",
   "execution_count": 45,
   "id": "30420e46",
   "metadata": {},
   "outputs": [],
   "source": [
    "import numpy as np\n",
    "from matplotlib import pyplot as plt \n",
    "import math\n",
    "\n"
   ]
  },
  {
   "cell_type": "code",
   "execution_count": 46,
   "id": "f4a763df",
   "metadata": {},
   "outputs": [],
   "source": [
    "x1=np.array([1,1.5,1.5,2,2,2,3,3,3,4,4,4,4.5,4.5,5])\n",
    "x2=np.array([1,1.5,2,1,2,2.5,2,4,5,3.5,4,5,4,5,4])\n",
    "x0=np.ones((15,1))\n",
    "y=np.array([0,0,0,0,0,0,0,1,1,1,1,1,1,1,1])\n",
    "x1=x1.reshape(15,1)\n",
    "x2=x2.reshape(15,1)\n",
    "x0=x0.reshape(15,1)\n",
    "y=y.reshape(15,1)"
   ]
  },
  {
   "cell_type": "code",
   "execution_count": 47,
   "id": "15d66a80",
   "metadata": {},
   "outputs": [
    {
     "name": "stdout",
     "output_type": "stream",
     "text": [
      "[[1.  1.  1. ]\n",
      " [1.  1.5 1.5]\n",
      " [1.  1.5 2. ]\n",
      " [1.  2.  1. ]\n",
      " [1.  2.  2. ]\n",
      " [1.  2.  2.5]\n",
      " [1.  3.  2. ]\n",
      " [1.  3.  4. ]\n",
      " [1.  3.  5. ]\n",
      " [1.  4.  3.5]\n",
      " [1.  4.  4. ]\n",
      " [1.  4.  5. ]\n",
      " [1.  4.5 4. ]\n",
      " [1.  4.5 5. ]\n",
      " [1.  5.  4. ]]\n"
     ]
    }
   ],
   "source": [
    "X=np.hstack((x0,x1,x2))\n",
    "print(X)"
   ]
  },
  {
   "cell_type": "code",
   "execution_count": 48,
   "id": "6300b671",
   "metadata": {},
   "outputs": [
    {
     "data": {
      "text/plain": [
       "[<matplotlib.lines.Line2D at 0x211fed0ec50>]"
      ]
     },
     "execution_count": 48,
     "metadata": {},
     "output_type": "execute_result"
    },
    {
     "data": {
      "image/png": "[encoded data removed]",
      "text/plain": [
       "<Figure size 432x288 with 1 Axes>"
      ]
     },
     "metadata": {
      "needs_background": "light"
     },
     "output_type": "display_data"
    }
   ],
   "source": [
    "plt.scatter(x1, x2, c=y)\n",
    "plt.plot(x1,(theta[0]+theta[1]*x1)/theta[2])"
   ]
  },
  {
   "cell_type": "code",
   "execution_count": 49,
   "id": "e3f7f398",
   "metadata": {
    "scrolled": true
   },
   "outputs": [
    {
     "name": "stdout",
     "output_type": "stream",
     "text": [
      "[[0.73105858]\n",
      " [0.81757448]\n",
      " [0.88079708]\n",
      " [0.73105858]\n",
      " [0.88079708]\n",
      " [0.92414182]\n",
      " [0.88079708]\n",
      " [0.98201379]\n",
      " [0.99330715]\n",
      " [0.97068777]\n",
      " [0.98201379]\n",
      " [0.99330715]\n",
      " [0.98201379]\n",
      " [0.99330715]\n",
      " [0.98201379]]\n"
     ]
    }
   ],
   "source": [
    "theta=np.array([0,0,1]).reshape(3,1)\n",
    "def h(theta,X):\n",
    "    return 1/(1+np.exp(-np.dot(X,theta)))\n",
    "\n",
    "print(h(theta, X))\n",
    "\n"
   ]
  },
  {
   "cell_type": "code",
   "execution_count": 50,
   "id": "c7dae696",
   "metadata": {},
   "outputs": [
    {
     "name": "stdout",
     "output_type": "stream",
     "text": [
      "[[0.08755078]\n",
      " [0.11342755]\n",
      " [0.1417952 ]\n",
      " [0.08755078]\n",
      " [0.1417952 ]\n",
      " [0.17192598]\n",
      " [0.1417952 ]\n",
      " [0.00121   ]\n",
      " [0.00044769]\n",
      " [0.00198336]\n",
      " [0.00121   ]\n",
      " [0.00044769]\n",
      " [0.00121   ]\n",
      " [0.00044769]\n",
      " [0.00121   ]]\n"
     ]
    }
   ],
   "source": [
    "def cout(theta,X,y):\n",
    " \n",
    "        j=((y*np.log(h(theta,X)))+(1-y)*np.log(1-h(theta,X)))\n",
    "        \n",
    "        return j*(-1/len(y))    \n",
    "   \n",
    "         \n",
    "         \n",
    "         \n",
    "            \n",
    "# print(cost(theta,X,y))  \n",
    "print(cout(theta,X,y))\n",
    "\n",
    "            "
   ]
  },
  {
   "cell_type": "code",
   "execution_count": 52,
   "id": "4fb9aee4",
   "metadata": {},
   "outputs": [],
   "source": [
    "def desc_grad(theta,X,y,pas):\n",
    "        a=pas*1/len(y)*np.dot(X.T,(h(theta,X)-y))\n",
    "        theta=theta-a\n",
    "        return theta \n",
    "\n",
    "\n",
    "        \n",
    "       "
   ]
  },
  {
   "cell_type": "code",
   "execution_count": 53,
   "id": "a6bb4602",
   "metadata": {},
   "outputs": [
    {
     "name": "stdout",
     "output_type": "stream",
     "text": [
      "[[-13.23372121]\n",
      " [  1.15874338]\n",
      " [  3.34155289]]\n"
     ]
    }
   ],
   "source": [
    "def fit(theta , X,y,pas , n):\n",
    "    for i in range(n):\n",
    "        c=cout(theta,X,y)\n",
    "        theta=desc_grad(theta,X,y,pas)\n",
    "    return c,theta\n",
    "\n",
    "c,theta=fit(theta,X,y,pas=0.1,n=10000)\n",
    "print(theta)    "
   ]
  },
  {
   "cell_type": "code",
   "execution_count": 54,
   "id": "5e9edae0",
   "metadata": {},
   "outputs": [
    {
     "data": {
      "text/plain": [
       "[<matplotlib.lines.Line2D at 0x211fed7b710>]"
      ]
     },
     "execution_count": 54,
     "metadata": {},
     "output_type": "execute_result"
    },
    {
     "data": {
      "image/png": "[encoded data removed]",
      "text/plain": [
       "<Figure size 432x288 with 1 Axes>"
      ]
     },
     "metadata": {
      "needs_background": "light"
     },
     "output_type": "display_data"
    }
   ],
   "source": [
    "plt.scatter(x1, x2, c=y)\n",
    "plt.plot(x1,(-theta[0]-theta[1]*x1)/theta[2])"
   ]
  },
  {
   "cell_type": "code",
   "execution_count": 55,
   "id": "fe7c022d",
   "metadata": {},
   "outputs": [],
   "source": [
    "y_test = np.array([0,0,0,0,0,0,1,1,1,1,1,1])\n",
    "x1_test = np.array([1,2,2,3,2.5,2.5,2.5,3,3,4,4,4]).reshape(12,1)\n",
    "x2_test = np.array([2.5,1.5,2,5.5,2,3,5,4.5,5,3.5,4.5,5]).reshape(12,1)\n",
    "x0_test = np.ones(x1_test.shape)\n",
    "X_test = np.hstack((x0_test,x1_test,x2_test))"
   ]
  },
  {
   "cell_type": "code",
   "execution_count": 56,
   "id": "66ed77fe",
   "metadata": {},
   "outputs": [
    {
     "data": {
      "text/plain": [
       "<matplotlib.collections.PathCollection at 0x211fee1ecf8>"
      ]
     },
     "execution_count": 56,
     "metadata": {},
     "output_type": "execute_result"
    },
    {
     "data": {
      "image/png": "[encoded data removed]",
      "text/plain": [
       "<Figure size 432x288 with 1 Axes>"
      ]
     },
     "metadata": {
      "needs_background": "light"
     },
     "output_type": "display_data"
    }
   ],
   "source": [
    "plt.scatter(x1_test, x2_test)"
   ]
  },
  {
   "cell_type": "code",
   "execution_count": 58,
   "id": "9ae2b546",
   "metadata": {},
   "outputs": [
    {
     "data": {
      "text/plain": [
       "array([[0.02363528],\n",
       "       [0.00272134],\n",
       "       [0.01429949],\n",
       "       [0.99981976],\n",
       "       [0.02524011],\n",
       "       [0.42257684],\n",
       "       [0.99829231],\n",
       "       [0.99493083],\n",
       "       [0.99904254],\n",
       "       [0.9567559 ],\n",
       "       [0.99840334],\n",
       "       [0.99969928]])"
      ]
     },
     "execution_count": 58,
     "metadata": {},
     "output_type": "execute_result"
    }
   ],
   "source": [
    "h(theta,X_test)"
   ]
  },
  {
   "cell_type": "code",
   "execution_count": 61,
   "id": "a7efc376",
   "metadata": {},
   "outputs": [],
   "source": [
    "y_pr = h(theta, X_test)\n",
    "y_pred = []\n",
    "for i in y_pr:\n",
    "    if i < 0.5:\n",
    "        y_pred.append(0)\n",
    "    else : \n",
    "        y_pred.append(1)"
   ]
  },
  {
   "cell_type": "code",
   "execution_count": 62,
   "id": "8f92bbd0",
   "metadata": {},
   "outputs": [],
   "source": [
    "def accuracy(y, y_pred):\n",
    "    return np.sum(y==y_pred)/len(y)"
   ]
  },
  {
   "cell_type": "code",
   "execution_count": 63,
   "id": "83b5c181",
   "metadata": {},
   "outputs": [
    {
     "data": {
      "text/plain": [
       "0.9166666666666666"
      ]
     },
     "execution_count": 63,
     "metadata": {},
     "output_type": "execute_result"
    }
   ],
   "source": [
    "accuracy(y_test, y_pred)"
   ]
  },
  {
   "cell_type": "code",
   "execution_count": null,
   "id": "7ea785f2",
   "metadata": {},
   "outputs": [],
   "source": []
  }
 ],
 "metadata": {
  "kernelspec": {
   "display_name": "Python [conda env:env_etl]",
   "language": "python",
   "name": "conda-env-env_etl-py"
  },
  "language_info": {
   "codemirror_mode": {
    "name": "ipython",
    "version": 3
   },
   "file_extension": ".py",
   "mimetype": "text/x-python",
   "name": "python",
   "nbconvert_exporter": "python",
   "pygments_lexer": "ipython3",
   "version": "3.6.13"
  }
 },
 "nbformat": 4,
 "nbformat_minor": 5
}
