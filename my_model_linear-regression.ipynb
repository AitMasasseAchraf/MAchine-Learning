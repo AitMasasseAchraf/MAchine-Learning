{
 "cells": [
  {
   "cell_type": "code",
   "execution_count": 4,
   "id": "d94de3bd",
   "metadata": {},
   "outputs": [
    {
     "data": {
      "text/html": [
       "<div>\n",
       "<style scoped>\n",
       "    .dataframe tbody tr th:only-of-type {\n",
       "        vertical-align: middle;\n",
       "    }\n",
       "\n",
       "    .dataframe tbody tr th {\n",
       "        vertical-align: top;\n",
       "    }\n",
       "\n",
       "    .dataframe thead th {\n",
       "        text-align: right;\n",
       "    }\n",
       "</style>\n",
       "<table border=\"1\" class=\"dataframe\">\n",
       "  <thead>\n",
       "    <tr style=\"text-align: right;\">\n",
       "      <th></th>\n",
       "      <th>Flipper Length (mm)</th>\n",
       "    </tr>\n",
       "  </thead>\n",
       "  <tbody>\n",
       "    <tr>\n",
       "      <th>0</th>\n",
       "      <td>181.0</td>\n",
       "    </tr>\n",
       "    <tr>\n",
       "      <th>1</th>\n",
       "      <td>186.0</td>\n",
       "    </tr>\n",
       "    <tr>\n",
       "      <th>2</th>\n",
       "      <td>195.0</td>\n",
       "    </tr>\n",
       "    <tr>\n",
       "      <th>3</th>\n",
       "      <td>193.0</td>\n",
       "    </tr>\n",
       "    <tr>\n",
       "      <th>4</th>\n",
       "      <td>190.0</td>\n",
       "    </tr>\n",
       "    <tr>\n",
       "      <th>...</th>\n",
       "      <td>...</td>\n",
       "    </tr>\n",
       "    <tr>\n",
       "      <th>337</th>\n",
       "      <td>207.0</td>\n",
       "    </tr>\n",
       "    <tr>\n",
       "      <th>338</th>\n",
       "      <td>202.0</td>\n",
       "    </tr>\n",
       "    <tr>\n",
       "      <th>339</th>\n",
       "      <td>193.0</td>\n",
       "    </tr>\n",
       "    <tr>\n",
       "      <th>340</th>\n",
       "      <td>210.0</td>\n",
       "    </tr>\n",
       "    <tr>\n",
       "      <th>341</th>\n",
       "      <td>198.0</td>\n",
       "    </tr>\n",
       "  </tbody>\n",
       "</table>\n",
       "<p>342 rows × 1 columns</p>\n",
       "</div>"
      ],
      "text/plain": [
       "     Flipper Length (mm)\n",
       "0                  181.0\n",
       "1                  186.0\n",
       "2                  195.0\n",
       "3                  193.0\n",
       "4                  190.0\n",
       "..                   ...\n",
       "337                207.0\n",
       "338                202.0\n",
       "339                193.0\n",
       "340                210.0\n",
       "341                198.0\n",
       "\n",
       "[342 rows x 1 columns]"
      ]
     },
     "execution_count": 4,
     "metadata": {},
     "output_type": "execute_result"
    }
   ],
   "source": [
    "\n",
    "import pandas as pd\n",
    "\n",
    "penguins = pd.read_csv(\"C:\\\\Users\\\\aitma\\\\Downloads\\\\TP0 Linear regression\\\\penguins_regression.csv\")\n",
    "feature_name = \"Flipper Length (mm)\"\n",
    "target_name = \"Body Mass (g)\"\n",
    "data, target = penguins[[feature_name]], penguins[target_name]\n",
    "data"
   ]
  },
  {
   "cell_type": "code",
   "execution_count": 5,
   "id": "0dd2f6eb",
   "metadata": {},
   "outputs": [
    {
     "data": {
      "text/plain": [
       "LinearRegression()"
      ]
     },
     "execution_count": 5,
     "metadata": {},
     "output_type": "execute_result"
    }
   ],
   "source": [
    "from sklearn.linear_model import LinearRegression\n",
    "\n",
    "linear_regression = LinearRegression()\n",
    "linear_regression.fit(data, target)"
   ]
  },
  {
   "cell_type": "markdown",
   "id": "5fa0af80",
   "metadata": {},
   "source": [
    "<h2>L'instance linear_regression stockera les valeurs des paramètres dans les attributs coef_ et intercept_. On peut afficher les maramètres du modèle optimal trouvé :</h2>"
   ]
  },
  {
   "cell_type": "code",
   "execution_count": 8,
   "id": "8e403edd",
   "metadata": {},
   "outputs": [
    {
     "data": {
      "text/plain": [
       "49.68556640610009"
      ]
     },
     "execution_count": 8,
     "metadata": {},
     "output_type": "execute_result"
    }
   ],
   "source": [
    "weight_flipper_length = linear_regression.coef_[0]\n",
    "weight_flipper_length"
   ]
  },
  {
   "cell_type": "code",
   "execution_count": 13,
   "id": "0dfc9faf",
   "metadata": {},
   "outputs": [
    {
     "data": {
      "text/plain": [
       "-5780.831358077063"
      ]
     },
     "execution_count": 13,
     "metadata": {},
     "output_type": "execute_result"
    }
   ],
   "source": [
    "intercept_body_mass = linear_regression.intercept_\n",
    "intercept_body_mass"
   ]
  },
  {
   "cell_type": "code",
   "execution_count": 14,
   "id": "bcbd0c5a",
   "metadata": {},
   "outputs": [],
   "source": [
    "import numpy as np\n",
    "#linspace is a function that generate 300 values from data.min to data.max \n",
    "flipper_length_range = np.linspace(data.min(), data.max(), num=300)\n",
    "predicted_body_mass = (\n",
    "    weight_flipper_length * flipper_length_range + intercept_body_mass)"
   ]
  },
  {
   "cell_type": "code",
   "execution_count": 15,
   "id": "cadff1f5",
   "metadata": {},
   "outputs": [
    {
     "data": {
      "image/png": "[encoded data removed]",
      "text/plain": [
       "<Figure size 432x288 with 1 Axes>"
      ]
     },
     "metadata": {
      "needs_background": "light"
     },
     "output_type": "display_data"
    }
   ],
   "source": [
    "import matplotlib.pyplot as plt\n",
    "import seaborn as sns\n",
    "\n",
    "sns.scatterplot(x=data[feature_name], y=target, color=\"black\", alpha=0.5)\n",
    "plt.plot(flipper_length_range, predicted_body_mass)\n",
    "_ = plt.title(\"LinearRegression de scikit-learn\")"
   ]
  },
  {
   "cell_type": "code",
   "execution_count": 16,
   "id": "f6ea3d31",
   "metadata": {},
   "outputs": [
    {
     "name": "stdout",
     "output_type": "stream",
     "text": [
      "L'erreur quadratique moyenne du modèle est  154546.19\n"
     ]
    }
   ],
   "source": [
    "from sklearn.metrics import mean_squared_error\n",
    "\n",
    "inferred_body_mass = linear_regression.predict(data)\n",
    "model_error = mean_squared_error(target, inferred_body_mass)\n",
    "print(f\"L'erreur quadratique moyenne du modèle est  {model_error:.2f}\")"
   ]
  },
  {
   "cell_type": "markdown",
   "id": "d83508de",
   "metadata": {},
   "source": [
    "<h4>Un modèle de régression linéaire minimise l'erreur quadratique moyenne sur l'ensemble d'apprentissage. Cela signifie que les paramètres obtenus après l'ajustement (c'est-à-dire coef_ et intercept_) sont les paramètres optimaux qui minimisent l'erreur quadratique moyenne. En d'autres termes, tout autre choix de paramètres donnera un modèle avec une erreur quadratique moyenne plus élevée sur l'ensemble d'apprentissage.</h4>\n",
    "\n",
    "<h4>Cependant, l'erreur quadratique moyenne est difficile à interpréter. L'erreur absolue moyenne est plus intuitive puisqu'elle fournit une erreur dans la même unité que celle de la cible.\n",
    "</h4>"
   ]
  },
  {
   "cell_type": "code",
   "execution_count": 17,
   "id": "369c4aa1",
   "metadata": {},
   "outputs": [
    {
     "name": "stdout",
     "output_type": "stream",
     "text": [
      "l'erreur absolue moyenne du modèle est : 313.00 g\n"
     ]
    }
   ],
   "source": [
    "from sklearn.metrics import mean_absolute_error\n",
    "\n",
    "model_error = mean_absolute_error(target, inferred_body_mass)\n",
    "print(f\"l'erreur absolue moyenne du modèle est : {model_error:.2f} g\")"
   ]
  },
  {
   "cell_type": "markdown",
   "id": "94f81923",
   "metadata": {},
   "source": [
    "<h4>Une erreur absolue moyenne de 313 signifie qu'en moyenne, notre modèle fait une erreur de +/- 313 grammes lors de la prédiction de la masse corporelle d'un pingouin compte tenu de la longueur de ses nageoires.</h4>"
   ]
  },
  {
   "cell_type": "code",
   "execution_count": null,
   "id": "82d7be5b",
   "metadata": {},
   "outputs": [],
   "source": []
  }
 ],
 "metadata": {
  "kernelspec": {
   "display_name": "Python [conda env:env_etl]",
   "language": "python",
   "name": "conda-env-env_etl-py"
  },
  "language_info": {
   "codemirror_mode": {
    "name": "ipython",
    "version": 3
   },
   "file_extension": ".py",
   "mimetype": "text/x-python",
   "name": "python",
   "nbconvert_exporter": "python",
   "pygments_lexer": "ipython3",
   "version": "3.6.13"
  }
 },
 "nbformat": 4,
 "nbformat_minor": 5
}
