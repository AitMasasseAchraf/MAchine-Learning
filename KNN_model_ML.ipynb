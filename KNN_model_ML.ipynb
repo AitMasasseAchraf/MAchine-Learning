{
 "cells": [
  {
   "cell_type": "code",
   "execution_count": 31,
   "id": "741e0c3b",
   "metadata": {},
   "outputs": [],
   "source": [
    "import numpy as np\n",
    "from matplotlib import pyplot as plt\n",
    "from statistics import mode\n"
   ]
  },
  {
   "cell_type": "code",
   "execution_count": 32,
   "id": "45c6f579",
   "metadata": {},
   "outputs": [
    {
     "name": "stdout",
     "output_type": "stream",
     "text": [
      "[[1.8]\n",
      " [2. ]\n",
      " [2.5]\n",
      " [2.5]\n",
      " [2.5]\n",
      " [3. ]\n",
      " [3.2]\n",
      " [4. ]\n",
      " [4.2]\n",
      " [4.5]\n",
      " [4.8]\n",
      " [4.8]\n",
      " [5. ]\n",
      " [6. ]\n",
      " [6. ]\n",
      " [6. ]]\n"
     ]
    }
   ],
   "source": [
    "x1=np.array([1.8,2,2.5,2.5,2.5,3,3.2,4,4.2,4.5,4.8,4.8,5,6,6,6])\n",
    "x2=np.array([2.4,1.9,2.6,2.2,1.3,2,3,4.1,4.8,3.8,4.3,4.7,5,5.2,5.6,4.8])\n",
    "x1=x1.reshape(16,1)\n",
    "x2=x2.reshape(16,1)\n",
    "print(x1)"
   ]
  },
  {
   "cell_type": "code",
   "execution_count": 33,
   "id": "51ecca72",
   "metadata": {},
   "outputs": [],
   "source": [
    "y=np.array([0,0,0,0,0,0,0,1,1,1,1,1,1,1,1,1])"
   ]
  },
  {
   "cell_type": "code",
   "execution_count": 34,
   "id": "88408ba9",
   "metadata": {},
   "outputs": [
    {
     "name": "stdout",
     "output_type": "stream",
     "text": [
      "[[1.8 2.4]\n",
      " [2.  1.9]\n",
      " [2.5 2.6]\n",
      " [2.5 2.2]\n",
      " [2.5 1.3]\n",
      " [3.  2. ]\n",
      " [3.2 3. ]\n",
      " [4.  4.1]\n",
      " [4.2 4.8]\n",
      " [4.5 3.8]\n",
      " [4.8 4.3]\n",
      " [4.8 4.7]\n",
      " [5.  5. ]\n",
      " [6.  5.2]\n",
      " [6.  5.6]\n",
      " [6.  4.8]]\n"
     ]
    }
   ],
   "source": [
    "X=np.hstack((x1,x2))\n",
    "print(X)"
   ]
  },
  {
   "cell_type": "code",
   "execution_count": 35,
   "id": "4af23305",
   "metadata": {},
   "outputs": [
    {
     "data": {
      "text/plain": [
       "<matplotlib.collections.PathCollection at 0x1ec892267f0>"
      ]
     },
     "execution_count": 35,
     "metadata": {},
     "output_type": "execute_result"
    },
    {
     "data": {
      "image/png": "[encoded data removed]",
      "text/plain": [
       "<Figure size 432x288 with 1 Axes>"
      ]
     },
     "metadata": {
      "needs_background": "light"
     },
     "output_type": "display_data"
    }
   ],
   "source": [
    "plt.xlim(-1,8)\n",
    "plt.ylim(-1,8)\n",
    "plt.scatter(x1 , x2, c=y)"
   ]
  },
  {
   "cell_type": "code",
   "execution_count": 36,
   "id": "520bc271",
   "metadata": {},
   "outputs": [],
   "source": [
    "def euc(x1,x2):\n",
    "    return np.sqrt(sum(x2-x1)**2)"
   ]
  },
  {
   "cell_type": "code",
   "execution_count": 39,
   "id": "dc445f72",
   "metadata": {},
   "outputs": [],
   "source": [
    "def KNN(X, y , x , k=3):\n",
    "    ds=[]\n",
    "    for i in range(len(X)):\n",
    "        ds.append(euc(X[i],x))\n",
    "        \n",
    "    L=sorted(ds) \n",
    "    labels=[]\n",
    "    for i in range(k):\n",
    "            index=ds.index(L[i])\n",
    "            labels.append(y[index])\n",
    "    classe=mode(labels)\n",
    "    return classe\n",
    "    "
   ]
  },
  {
   "cell_type": "code",
   "execution_count": 47,
   "id": "c590829e",
   "metadata": {},
   "outputs": [
    {
     "data": {
      "text/plain": [
       "0"
      ]
     },
     "execution_count": 47,
     "metadata": {},
     "output_type": "execute_result"
    }
   ],
   "source": [
    "x=[2,2.3]\n",
    "KNN(X ,y,x , 3)\n",
    "\n",
    "\n"
   ]
  },
  {
   "cell_type": "code",
   "execution_count": 48,
   "id": "ffdf2c26",
   "metadata": {},
   "outputs": [
    {
     "data": {
      "text/plain": [
       "array([[2.8, 2.4],\n",
       "       [3. , 1.9],\n",
       "       [3.4, 1.5],\n",
       "       [4.7, 4.5],\n",
       "       [5. , 5. ],\n",
       "       [6. , 4. ],\n",
       "       [6.8, 4.2]])"
      ]
     },
     "execution_count": 48,
     "metadata": {},
     "output_type": "execute_result"
    }
   ],
   "source": [
    "y_test=np.array([0,0,0,1,1,1,1])\n",
    "x1_test=np.array([2.8,3,3.4,4.7,5,6,6.8])\n",
    "x1_test=x1_test.reshape((7,1))\n",
    "x2_test=np.array([2.4,1.9,1.5,4.5,5,4,4.2])\n",
    "x2_test=x2_test.reshape((7,1))\n",
    "X_test=np.hstack((x1_test, x2_test))\n",
    "X_test"
   ]
  },
  {
   "cell_type": "code",
   "execution_count": 51,
   "id": "e14e2f11",
   "metadata": {},
   "outputs": [
    {
     "data": {
      "text/plain": [
       "[0, 0, 0, 1, 1, 1, 1]"
      ]
     },
     "execution_count": 51,
     "metadata": {},
     "output_type": "execute_result"
    }
   ],
   "source": [
    "y_pred=[]\n",
    "for i in range(len(X_test)):\n",
    "    y_pred.append(KNN(X, y,X_test[i],3))\n",
    "    \n",
    "y_pred"
   ]
  },
  {
   "cell_type": "code",
   "execution_count": 52,
   "id": "67d00757",
   "metadata": {},
   "outputs": [
    {
     "data": {
      "text/plain": [
       "1.0"
      ]
     },
     "execution_count": 52,
     "metadata": {},
     "output_type": "execute_result"
    }
   ],
   "source": [
    "c=0\n",
    "for i in range(len(y_test)):\n",
    "    if y_pred[i]==y_test[i]:\n",
    "        c+=1\n",
    "acc=c/len(y_test)\n",
    "acc"
   ]
  },
  {
   "cell_type": "code",
   "execution_count": null,
   "id": "b1580115",
   "metadata": {},
   "outputs": [],
   "source": []
  }
 ],
 "metadata": {
  "kernelspec": {
   "display_name": "Python [conda env:env_etl]",
   "language": "python",
   "name": "conda-env-env_etl-py"
  },
  "language_info": {
   "codemirror_mode": {
    "name": "ipython",
    "version": 3
   },
   "file_extension": ".py",
   "mimetype": "text/x-python",
   "name": "python",
   "nbconvert_exporter": "python",
   "pygments_lexer": "ipython3",
   "version": "3.6.13"
  }
 },
 "nbformat": 4,
 "nbformat_minor": 5
}
